{
  "nbformat": 4,
  "nbformat_minor": 0,
  "metadata": {
    "colab": {
      "name": "CS109B_Final_Project_Group_35.ipynb",
      "provenance": [],
      "authorship_tag": "ABX9TyPLlLVSrIcDiSEBTx9D9/9z",
      "include_colab_link": true
    },
    "kernelspec": {
      "name": "python3",
      "display_name": "Python 3"
    }
  },
  "cells": [
    {
      "cell_type": "markdown",
      "metadata": {
        "id": "view-in-github",
        "colab_type": "text"
      },
      "source": [
        "<a href=\"https://colab.research.google.com/github/asanneh/CS109B_Final_Project_Group_35/blob/master/CS109B_Final_Project_Group_35.ipynb\" target=\"_parent\"><img src=\"https://colab.research.google.com/assets/colab-badge.svg\" alt=\"Open In Colab\"/></a>"
      ]
    },
    {
      "cell_type": "markdown",
      "metadata": {
        "id": "I9Fe9T65EXYX",
        "colab_type": "text"
      },
      "source": [
        "                 **COMPSCI 109B Final Project - Group 35**    \n",
        "   **Project: Measuring the Shape and Brightness of Galaxies with Neural Networks**\n",
        "\n",
        "              Alpha Sanneh, Brian Tao, Grace Greason, Evan Arnold\n"
      ]
    },
    {
      "cell_type": "code",
      "metadata": {
        "id": "iUMBH3z-IQSc",
        "colab_type": "code",
        "colab": {}
      },
      "source": [
        "#install libraries we need here\n",
        "# !pip install tf_keras_vis"
      ],
      "execution_count": 0,
      "outputs": []
    },
    {
      "cell_type": "code",
      "metadata": {
        "id": "2lLe2Er2GIrg",
        "colab_type": "code",
        "colab": {}
      },
      "source": [
        "#import relevant libraries\n",
        "# from __future__ import annotations\n",
        "import numpy as np\n",
        "import seaborn as sns\n",
        "import os\n",
        "import datetime\n",
        "\n",
        "import matplotlib.pyplot as plt\n",
        "# plt.rcParams[\"figure.figsize\"] = (5,5)\n",
        "%matplotlib inline"
      ],
      "execution_count": 0,
      "outputs": []
    },
    {
      "cell_type": "code",
      "metadata": {
        "id": "Xw9vSVPbI9yJ",
        "colab_type": "code",
        "colab": {}
      },
      "source": [
        "%tensorflow_version 2.0.0"
      ],
      "execution_count": 0,
      "outputs": []
    },
    {
      "cell_type": "code",
      "metadata": {
        "id": "c73AkX2cGYAw",
        "colab_type": "code",
        "colab": {}
      },
      "source": [
        "\n",
        "import tensorflow as tf\n",
        "from tensorflow import keras\n",
        "from tensorflow.keras.models import Sequential, Model\n",
        "from tensorflow.keras.layers import Dense, Conv2D, Conv1D, MaxPooling2D, MaxPooling1D,\\\n",
        "                                    Dropout, Flatten, Activation, Input, UpSampling2D\n",
        "from tensorflow.keras.optimizers import Adam, SGD, RMSprop\n",
        "from tensorflow.keras.utils import to_categorical\n",
        "from tensorflow.keras.metrics import AUC, Precision, Recall, FalsePositives, \\\n",
        "                                     FalseNegatives, TruePositives, TrueNegatives\n",
        "from tensorflow.keras.preprocessing import image\n",
        "from tensorflow.keras.regularizers import l2"
      ],
      "execution_count": 0,
      "outputs": []
    },
    {
      "cell_type": "code",
      "metadata": {
        "id": "-sC4ywIkGu9l",
        "colab_type": "code",
        "colab": {}
      },
      "source": [
        "tf.keras.backend.clear_session()  # For easy reset of notebook state.\n",
        "print(tf.__version__)  # You should see a > 2.0.0 here!\n",
        "# from tf_keras_vis.utils import print_gpus\n",
        "# print_gpus()"
      ],
      "execution_count": 0,
      "outputs": []
    },
    {
      "cell_type": "code",
      "metadata": {
        "id": "6sU9vSj6G4RT",
        "colab_type": "code",
        "colab": {}
      },
      "source": [
        ""
      ],
      "execution_count": 0,
      "outputs": []
    }
  ]
}